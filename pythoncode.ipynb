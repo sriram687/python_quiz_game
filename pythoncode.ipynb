{
  "nbformat": 4,
  "nbformat_minor": 0,
  "metadata": {
    "colab": {
      "provenance": [],
      "authorship_tag": "ABX9TyPy8dLVuc+7An+3HMGnnWxu",
      "include_colab_link": true
    },
    "kernelspec": {
      "name": "python3",
      "display_name": "Python 3"
    },
    "language_info": {
      "name": "python"
    }
  },
  "cells": [
    {
      "cell_type": "markdown",
      "metadata": {
        "id": "view-in-github",
        "colab_type": "text"
      },
      "source": [
        "<a href=\"https://colab.research.google.com/github/sriram687/python_quiz_game/blob/main/pythoncode.ipynb\" target=\"_parent\"><img src=\"https://colab.research.google.com/assets/colab-badge.svg\" alt=\"Open In Colab\"/></a>"
      ]
    },
    {
      "cell_type": "code",
      "execution_count": null,
      "metadata": {
        "colab": {
          "base_uri": "https://localhost:8080/"
        },
        "id": "-FVSHP3g56al",
        "outputId": "a91632a1-86bb-4f97-abe9-f6b7b0151c01"
      },
      "outputs": [
        {
          "output_type": "stream",
          "name": "stdout",
          "text": [
            "a= 10 b= 5\n"
          ]
        }
      ],
      "source": [
        "a=5\n",
        "b=10\n",
        "a,b=b,a\n",
        "print(\"a=\",a,\"b=\",b)"
      ]
    },
    {
      "cell_type": "code",
      "source": [
        "a=int(input(\"Enter a number:\"))\n",
        "if(a==2):\n",
        "    print(\"Prime\")\n",
        "elif((a-1)%2==0):\n",
        "    print(\"prime\")\n",
        "else:\n",
        "    print(\"Not prime\")\n"
      ],
      "metadata": {
        "id": "V8dc9V-H6G2M"
      },
      "execution_count": null,
      "outputs": []
    },
    {
      "cell_type": "code",
      "source": [],
      "metadata": {
        "id": "7msNJO7n9ltx"
      },
      "execution_count": null,
      "outputs": []
    },
    {
      "cell_type": "markdown",
      "source": [],
      "metadata": {
        "id": "HzxZLEds9nEK"
      }
    },
    {
      "cell_type": "code",
      "source": [],
      "metadata": {
        "id": "ugMtYv8y9oIC"
      },
      "execution_count": null,
      "outputs": []
    },
    {
      "cell_type": "code",
      "source": [],
      "metadata": {
        "id": "xjcQanSB9_rp"
      },
      "execution_count": null,
      "outputs": []
    },
    {
      "cell_type": "code",
      "source": [
        "a=int(input(\"Enter a number:\"))\n",
        "result=1\n",
        "for i in range(1,a+1):\n",
        "     result *=i\n",
        "print(\"factorial of\",a,\"is\", result)\n"
      ],
      "metadata": {
        "id": "dPjx0TLO7V_Z"
      },
      "execution_count": null,
      "outputs": []
    },
    {
      "cell_type": "code",
      "source": [
        "a=int(input(\"Enter a Number :\"))\n",
        "result=0\n",
        "while a>0:\n",
        "    b=a%10\n",
        "    result +=b\n",
        "    a=a//10\n",
        "print(\"The sum of Digit of Number is\",result)"
      ],
      "metadata": {
        "id": "1VkRQK_N7dlc"
      },
      "execution_count": null,
      "outputs": []
    },
    {
      "cell_type": "code",
      "source": [
        "a=int(input(\"Enter a Number :\"))\n",
        "b=(a*9/5)+32\n",
        "print(b)"
      ],
      "metadata": {
        "colab": {
          "base_uri": "https://localhost:8080/"
        },
        "id": "5e-k4vos7eq7",
        "outputId": "d802a55c-6012-45d7-de8f-563040b1140c"
      },
      "execution_count": null,
      "outputs": [
        {
          "output_type": "stream",
          "name": "stdout",
          "text": [
            "Enter a Number :32\n",
            "89.6\n"
          ]
        }
      ]
    },
    {
      "cell_type": "code",
      "source": [],
      "metadata": {
        "id": "7VTD6tmb7pMx"
      },
      "execution_count": null,
      "outputs": []
    },
    {
      "cell_type": "code",
      "source": [
        "a=int(input(\"Enter the year\"))\n",
        "if((a%4==0 and a%100!=0)or(a%400==0)):\n",
        "    print(\"It is a leap year\")\n",
        "else:\n",
        "    print(\"It is not a leap year\")"
      ],
      "metadata": {
        "id": "MlxYtEP87wwW"
      },
      "execution_count": null,
      "outputs": []
    },
    {
      "cell_type": "code",
      "source": [
        "import keyword\n",
        "a=input(\"Enter the word\")\n",
        "if keyword.iskeyword(a):\n",
        "    print(\"It is a Key Word\")\n",
        "else:\n",
        "    print(\"It is not a Key Word\")"
      ],
      "metadata": {
        "colab": {
          "base_uri": "https://localhost:8080/"
        },
        "id": "Lw24IzHi7ymw",
        "outputId": "1b803f05-48ab-429c-8ef3-2ddb45f2156f"
      },
      "execution_count": null,
      "outputs": [
        {
          "output_type": "stream",
          "name": "stdout",
          "text": [
            "Enter the wordFalse\n",
            "It is a Key Word\n"
          ]
        }
      ]
    },
    {
      "cell_type": "code",
      "source": [
        "a,b,c=2,5,7\n",
        "print(a,b,c)"
      ],
      "metadata": {
        "colab": {
          "base_uri": "https://localhost:8080/"
        },
        "id": "CWhdl_eU72ys",
        "outputId": "d0fca154-ff6e-408e-f686-1546bde3d704"
      },
      "execution_count": null,
      "outputs": [
        {
          "output_type": "stream",
          "name": "stdout",
          "text": [
            "2 5 7\n"
          ]
        }
      ]
    },
    {
      "cell_type": "code",
      "source": [
        "multilinestring = \"\"\"This is a multi-line string.\n",
        "It spans multiple lines.\"\"\"\n",
        "print(multilinestring)"
      ],
      "metadata": {
        "id": "uyBQXdKW-CBu"
      },
      "execution_count": null,
      "outputs": []
    },
    {
      "cell_type": "code",
      "source": [
        "binarynum = 0b1010\n",
        "octalnum = 0o12\n",
        "hexadecimalnum = 0xA\n",
        "\n",
        "print(\"Binary:\", binarynum)\n",
        "print(\"Octal:\", octalnum)\n",
        "print(\"Hexadecimal:\", hexadecimalnum)"
      ],
      "metadata": {
        "id": "5vbHW4kn-Pu1"
      },
      "execution_count": null,
      "outputs": []
    },
    {
      "cell_type": "code",
      "source": [
        "string1 = \"Hello, \"\n",
        "string2 = \"World!\"\n",
        "concatenatedstring = string1 + string2\n",
        "print(concatenatedstring)\n"
      ],
      "metadata": {
        "id": "hR-VZhR--WUp"
      },
      "execution_count": null,
      "outputs": []
    },
    {
      "cell_type": "code",
      "source": [
        "integernum = 10\n",
        "floatnum = 10.5\n",
        "complexnum = 3 + 4j\n",
        "\n",
        "print(\"Integer:\", integernum)\n",
        "print(\"Float:\", floatnum)\n",
        "print(\"Complex:\", complexnum)"
      ],
      "metadata": {
        "id": "E0P29SM_-bOR"
      },
      "execution_count": null,
      "outputs": []
    },
    {
      "cell_type": "code",
      "source": [
        "num = 5\n",
        "ispositive = num > 0\n",
        "print(\"Is the number positive?\", ispositive)"
      ],
      "metadata": {
        "id": "rEuefrns-fmm"
      },
      "execution_count": null,
      "outputs": []
    },
    {
      "cell_type": "code",
      "source": [
        "var = None\n",
        "print(\"Value:\", var,)\n",
        "print(\" Type:\", type(var))"
      ],
      "metadata": {
        "id": "l9rAvHju-jK7"
      },
      "execution_count": null,
      "outputs": []
    },
    {
      "cell_type": "code",
      "source": [
        "fruits = [\"Apple\", \"Banana\", \"Cherry\"]\n",
        "tuple = (10, 20, 30)\n",
        "dict = {\"name\": \"John\", \"age\": 25}\n",
        "set = {\"Red\", \"Green\", \"Blue\"}\n",
        "\n",
        "print(\"List of fruits:\", fruits)\n",
        "print(\"Tuple of numbers:\", tuple)\n",
        "print(\"Dictionary:\", dict)\n",
        "print(\"Set of colors:\", set)"
      ],
      "metadata": {
        "id": "CjXxQa0O-xQa"
      },
      "execution_count": 13,
      "outputs": []
    },
    {
      "cell_type": "code",
      "source": [
        "a = 10\n",
        "b = 9.0\n",
        "\n",
        "print(\"Addition:\", int(a + b))\n",
        "print(\"Subtraction:\", a - b)\n",
        "print(\"Multiplication:\", int(a * b))\n",
        "print(\"Division:\", a / b)"
      ],
      "metadata": {
        "id": "M9lCsJ9A-0Ys"
      },
      "execution_count": 13,
      "outputs": []
    },
    {
      "cell_type": "code",
      "source": [
        "set = {1, 2, 3}\n",
        "set.add(4)\n",
        "set.remove(2)\n",
        "\n",
        "print(\"Modified set:\", set)"
      ],
      "metadata": {
        "id": "hZwnBJTD_C7B"
      },
      "execution_count": null,
      "outputs": []
    }
  ]
}